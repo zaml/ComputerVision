{
 "cells": [
  {
   "cell_type": "code",
   "execution_count": 1,
   "metadata": {},
   "outputs": [],
   "source": [
    "import cv2\n",
    "import numpy\n",
    "\n",
    "# Constants for finding range of skin color in YCrCb\n",
    "min_YCrCb = numpy.array([0,133,77],numpy.uint8)\n",
    "max_YCrCb = numpy.array([255,173,127],numpy.uint8)\n",
    "\n",
    "# Create a window to display the camera feed\n",
    "cv2.namedWindow('Camera Output')\n",
    "\n",
    "# Get pointer to video frames from primary device\n",
    "videoFrame = cv2.VideoCapture(0)\n",
    "\n",
    "# 320 x 240 video\n",
    "#readSucsess = videoFrame.set(3,320) \n",
    "#readSucsess = videoFrame.set(4,240)\n",
    "\n",
    "# Process the video frames\n",
    "keyPressed = -1 # -1 indicates no key pressed\n",
    "\n",
    "while(keyPressed < 0): # any key pressed has a value >= 0\n",
    "\n",
    "    # Grab video frame, decode it and return next video frame\n",
    "    readSucsess, sourceImage = videoFrame.read()\n",
    "\n",
    "    # Convert image to YCrCb\n",
    "    imageYCrCb = cv2.cvtColor(sourceImage,cv2.COLOR_BGR2YCR_CB)\n",
    "\n",
    "    # Find region with skin tone in YCrCb image\n",
    "    skinRegion = cv2.inRange(imageYCrCb,min_YCrCb,max_YCrCb)\n",
    "\n",
    "    # Do contour detection on skin region\n",
    "    _, contours, hierarchy = cv2.findContours(skinRegion, cv2.RETR_EXTERNAL, cv2.CHAIN_APPROX_SIMPLE)\n",
    "\n",
    "    # Draw the contour on the source image\n",
    "    for i, c in enumerate(contours):\n",
    "        area = cv2.contourArea(c)\n",
    "        if area > 1000:\n",
    "            cv2.drawContours(sourceImage, contours, i, (0, 255, 0), 3)\n",
    "\n",
    "    # Display the source image\n",
    "    cv2.imshow('Camera Output',sourceImage)\n",
    "\n",
    "    # Check for user input to close program\n",
    "    keyPressed = cv2.waitKey(1) # wait 1 milisecond in each iteration of while loop\n",
    "\n",
    "# Close window and camera after exiting the while loop\n",
    "cv2.destroyWindow('Camera Output')\n",
    "videoFrame.release()"
   ]
  },
  {
   "cell_type": "code",
   "execution_count": null,
   "metadata": {
    "collapsed": true
   },
   "outputs": [],
   "source": []
  }
 ],
 "metadata": {
  "kernelspec": {
   "display_name": "Python 3",
   "language": "python",
   "name": "python3"
  },
  "language_info": {
   "codemirror_mode": {
    "name": "ipython",
    "version": 3
   },
   "file_extension": ".py",
   "mimetype": "text/x-python",
   "name": "python",
   "nbconvert_exporter": "python",
   "pygments_lexer": "ipython3",
   "version": "3.6.3"
  }
 },
 "nbformat": 4,
 "nbformat_minor": 2
}
